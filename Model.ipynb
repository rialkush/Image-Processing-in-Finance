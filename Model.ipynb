{
 "cells": [
  {
   "cell_type": "markdown",
   "metadata": {},
   "source": [
    "## Import Libraries"
   ]
  },
  {
   "cell_type": "code",
   "execution_count": 1,
   "metadata": {
    "colab": {},
    "colab_type": "code",
    "id": "cTU8IEC5KT7Z"
   },
   "outputs": [],
   "source": [
    "seed_value= 0\n",
    "import os\n",
    "os.environ['PYTHONHASHSEED']=str(seed_value)\n",
    "\n",
    "import random\n",
    "random.seed(seed_value)\n",
    "\n",
    "import numpy as np\n",
    "np.random.seed(seed_value)\n",
    "\n",
    "\n",
    "import tensorflow as tf\n",
    "tf.compat.v1.set_random_seed(seed_value)\n",
    "\n",
    "from keras import backend as K\n",
    "session_conf = tf.compat.v1.ConfigProto(intra_op_parallelism_threads=1, inter_op_parallelism_threads=1)\n",
    "sess = tf.compat.v1.Session(graph=tf.compat.v1.get_default_graph(), config=session_conf)\n",
    "tf.compat.v1.keras.backend.set_session(sess)\n",
    "\n",
    "import pandas as pd\n",
    "import matplotlib.pyplot as plt\n",
    "from itertools import chain \n",
    "\n",
    "from tensorflow.keras import datasets, layers, models\n",
    "from tensorflow.keras import regularizers"
   ]
  },
  {
   "cell_type": "markdown",
   "metadata": {},
   "source": [
    "## Read Data"
   ]
  },
  {
   "cell_type": "code",
   "execution_count": 2,
   "metadata": {
    "colab": {},
    "colab_type": "code",
    "id": "AQbDuksfKwU0"
   },
   "outputs": [],
   "source": [
    "df = pd.read_csv(\"Data/Original/testing.csv\")  #test-set for financial evaluation"
   ]
  },
  {
   "cell_type": "code",
   "execution_count": 3,
   "metadata": {},
   "outputs": [
    {
     "data": {
      "text/html": [
       "<div>\n",
       "<style scoped>\n",
       "    .dataframe tbody tr th:only-of-type {\n",
       "        vertical-align: middle;\n",
       "    }\n",
       "\n",
       "    .dataframe tbody tr th {\n",
       "        vertical-align: top;\n",
       "    }\n",
       "\n",
       "    .dataframe thead th {\n",
       "        text-align: right;\n",
       "    }\n",
       "</style>\n",
       "<table border=\"1\" class=\"dataframe\">\n",
       "  <thead>\n",
       "    <tr style=\"text-align: right;\">\n",
       "      <th></th>\n",
       "      <th>Date</th>\n",
       "      <th>Open</th>\n",
       "      <th>High</th>\n",
       "      <th>Low</th>\n",
       "      <th>Close</th>\n",
       "      <th>Adj Close</th>\n",
       "      <th>Volume</th>\n",
       "    </tr>\n",
       "  </thead>\n",
       "  <tbody>\n",
       "    <tr>\n",
       "      <th>0</th>\n",
       "      <td>02-04-2018</td>\n",
       "      <td>893.000000</td>\n",
       "      <td>900.950012</td>\n",
       "      <td>886.500000</td>\n",
       "      <td>892.950012</td>\n",
       "      <td>879.384521</td>\n",
       "      <td>5712065</td>\n",
       "    </tr>\n",
       "    <tr>\n",
       "      <th>1</th>\n",
       "      <td>03-04-2018</td>\n",
       "      <td>891.000000</td>\n",
       "      <td>901.700012</td>\n",
       "      <td>885.250000</td>\n",
       "      <td>899.549988</td>\n",
       "      <td>885.884277</td>\n",
       "      <td>6364728</td>\n",
       "    </tr>\n",
       "    <tr>\n",
       "      <th>2</th>\n",
       "      <td>04-04-2018</td>\n",
       "      <td>904.700012</td>\n",
       "      <td>911.799988</td>\n",
       "      <td>892.049988</td>\n",
       "      <td>894.900024</td>\n",
       "      <td>881.304932</td>\n",
       "      <td>6498407</td>\n",
       "    </tr>\n",
       "    <tr>\n",
       "      <th>3</th>\n",
       "      <td>05-04-2018</td>\n",
       "      <td>905.099976</td>\n",
       "      <td>910.000000</td>\n",
       "      <td>903.500000</td>\n",
       "      <td>908.200012</td>\n",
       "      <td>894.402832</td>\n",
       "      <td>3898676</td>\n",
       "    </tr>\n",
       "    <tr>\n",
       "      <th>4</th>\n",
       "      <td>06-04-2018</td>\n",
       "      <td>908.000000</td>\n",
       "      <td>918.500000</td>\n",
       "      <td>905.000000</td>\n",
       "      <td>911.000000</td>\n",
       "      <td>897.160339</td>\n",
       "      <td>4418462</td>\n",
       "    </tr>\n",
       "    <tr>\n",
       "      <th>...</th>\n",
       "      <td>...</td>\n",
       "      <td>...</td>\n",
       "      <td>...</td>\n",
       "      <td>...</td>\n",
       "      <td>...</td>\n",
       "      <td>...</td>\n",
       "      <td>...</td>\n",
       "    </tr>\n",
       "    <tr>\n",
       "      <th>323</th>\n",
       "      <td>24-07-2019</td>\n",
       "      <td>1273.500000</td>\n",
       "      <td>1278.800049</td>\n",
       "      <td>1253.550049</td>\n",
       "      <td>1259.099976</td>\n",
       "      <td>1247.546387</td>\n",
       "      <td>6943982</td>\n",
       "    </tr>\n",
       "    <tr>\n",
       "      <th>324</th>\n",
       "      <td>25-07-2019</td>\n",
       "      <td>1264.000000</td>\n",
       "      <td>1269.050049</td>\n",
       "      <td>1227.000000</td>\n",
       "      <td>1231.500000</td>\n",
       "      <td>1220.199707</td>\n",
       "      <td>9968545</td>\n",
       "    </tr>\n",
       "    <tr>\n",
       "      <th>325</th>\n",
       "      <td>26-07-2019</td>\n",
       "      <td>1231.500000</td>\n",
       "      <td>1242.500000</td>\n",
       "      <td>1210.000000</td>\n",
       "      <td>1213.800049</td>\n",
       "      <td>1202.662231</td>\n",
       "      <td>9320481</td>\n",
       "    </tr>\n",
       "    <tr>\n",
       "      <th>326</th>\n",
       "      <td>29-07-2019</td>\n",
       "      <td>1216.900024</td>\n",
       "      <td>1222.000000</td>\n",
       "      <td>1205.099976</td>\n",
       "      <td>1210.949951</td>\n",
       "      <td>1199.838257</td>\n",
       "      <td>8058035</td>\n",
       "    </tr>\n",
       "    <tr>\n",
       "      <th>327</th>\n",
       "      <td>30-07-2019</td>\n",
       "      <td>1213.949951</td>\n",
       "      <td>1220.000000</td>\n",
       "      <td>1175.949951</td>\n",
       "      <td>1180.900024</td>\n",
       "      <td>1170.064087</td>\n",
       "      <td>9533344</td>\n",
       "    </tr>\n",
       "  </tbody>\n",
       "</table>\n",
       "<p>328 rows × 7 columns</p>\n",
       "</div>"
      ],
      "text/plain": [
       "           Date         Open         High          Low        Close  \\\n",
       "0    02-04-2018   893.000000   900.950012   886.500000   892.950012   \n",
       "1    03-04-2018   891.000000   901.700012   885.250000   899.549988   \n",
       "2    04-04-2018   904.700012   911.799988   892.049988   894.900024   \n",
       "3    05-04-2018   905.099976   910.000000   903.500000   908.200012   \n",
       "4    06-04-2018   908.000000   918.500000   905.000000   911.000000   \n",
       "..          ...          ...          ...          ...          ...   \n",
       "323  24-07-2019  1273.500000  1278.800049  1253.550049  1259.099976   \n",
       "324  25-07-2019  1264.000000  1269.050049  1227.000000  1231.500000   \n",
       "325  26-07-2019  1231.500000  1242.500000  1210.000000  1213.800049   \n",
       "326  29-07-2019  1216.900024  1222.000000  1205.099976  1210.949951   \n",
       "327  30-07-2019  1213.949951  1220.000000  1175.949951  1180.900024   \n",
       "\n",
       "       Adj Close   Volume  \n",
       "0     879.384521  5712065  \n",
       "1     885.884277  6364728  \n",
       "2     881.304932  6498407  \n",
       "3     894.402832  3898676  \n",
       "4     897.160339  4418462  \n",
       "..           ...      ...  \n",
       "323  1247.546387  6943982  \n",
       "324  1220.199707  9968545  \n",
       "325  1202.662231  9320481  \n",
       "326  1199.838257  8058035  \n",
       "327  1170.064087  9533344  \n",
       "\n",
       "[328 rows x 7 columns]"
      ]
     },
     "execution_count": 3,
     "metadata": {},
     "output_type": "execute_result"
    }
   ],
   "source": [
    "df"
   ]
  },
  {
   "cell_type": "code",
   "execution_count": 4,
   "metadata": {},
   "outputs": [],
   "source": [
    "train_dir = os.path.join('Images', 'Training')\n",
    "validation_dir = os.path.join('Images', 'Validation')"
   ]
  },
  {
   "cell_type": "code",
   "execution_count": 5,
   "metadata": {
    "colab": {},
    "colab_type": "code",
    "id": "e4bAyHXfK7_4"
   },
   "outputs": [
    {
     "name": "stdout",
     "output_type": "stream",
     "text": [
      "Total training images: 1732\n",
      "Total validation images: 308\n"
     ]
    }
   ],
   "source": [
    "train_buy_dir = os.path.join(train_dir, 'Buy')  # directory with our training  Buy pictures\n",
    "train_hold_dir = os.path.join(train_dir, 'Hold')  # directory with our training Hold pictures\n",
    "train_sell_dir = os.path.join(train_dir, 'Sell')  # directory with our training Sell pictures\n",
    "validation_buy_dir = os.path.join(validation_dir, 'Buy')  # directory with our validation Buy pictures\n",
    "validation_hold_dir = os.path.join(validation_dir, 'Hold')  # directory with our validation Hold pictures\n",
    "validation_sell_dir = os.path.join(validation_dir, 'Sell')  # directory with our validation Sell pictures\n",
    "\n",
    "num_buy_tr = len(os.listdir(train_buy_dir))\n",
    "num_hold_tr = len(os.listdir(train_hold_dir))\n",
    "num_sell_tr = len(os.listdir(train_sell_dir))\n",
    "\n",
    "num_buy_val = len(os.listdir(validation_buy_dir))\n",
    "num_hold_val = len(os.listdir(validation_hold_dir))\n",
    "num_sell_val = len(os.listdir(validation_sell_dir))\n",
    "\n",
    "total_train = num_buy_tr + num_hold_tr + num_sell_tr\n",
    "total_val = num_buy_val + num_hold_val + num_sell_val\n",
    "\n",
    "\n",
    "\n",
    "print(\"Total training images:\", total_train)\n",
    "print(\"Total validation images:\", total_val)"
   ]
  },
  {
   "cell_type": "code",
   "execution_count": 6,
   "metadata": {
    "colab": {},
    "colab_type": "code",
    "id": "60obDDFzLEbR"
   },
   "outputs": [],
   "source": [
    "# initializing parameters for further use\n",
    "batch_size = 32\n",
    "epochs = 100\n",
    "IMG_HEIGHT = 12\n",
    "IMG_WIDTH = 15"
   ]
  },
  {
   "cell_type": "markdown",
   "metadata": {
    "colab_type": "text",
    "id": "zmDmet36NHRF"
   },
   "source": [
    "# ***Data Augmentation***"
   ]
  },
  {
   "cell_type": "code",
   "execution_count": 7,
   "metadata": {
    "colab": {},
    "colab_type": "code",
    "id": "ZWN3IhiSLIzl"
   },
   "outputs": [
    {
     "name": "stdout",
     "output_type": "stream",
     "text": [
      "Found 1732 images belonging to 3 classes.\n"
     ]
    }
   ],
   "source": [
    "from tensorflow.keras.preprocessing.image import ImageDataGenerator\n",
    "image_gen_train = ImageDataGenerator(\n",
    "    rescale=1./255,featurewise_center=True,\n",
    "    \n",
    "    width_shift_range=0.1,\n",
    "    shear_range=0.15,\n",
    "    zoom_range=0.15,\n",
    "    horizontal_flip=True,\n",
    "    fill_mode='reflect',\n",
    "    )\n",
    "\n",
    "validation_image_generator = ImageDataGenerator(rescale=1./255)\n",
    "\n",
    "train_data_gen =image_gen_train.flow_from_directory(batch_size=batch_size,\n",
    "                                                     directory=train_dir,\n",
    "                                                     shuffle=True,color_mode=\"rgb\",\n",
    "                                                     target_size=(IMG_HEIGHT, IMG_WIDTH),\n",
    "                                                     class_mode='sparse')\n"
   ]
  },
  {
   "cell_type": "code",
   "execution_count": 8,
   "metadata": {
    "colab": {},
    "colab_type": "code",
    "id": "JjIadl8kLX1r"
   },
   "outputs": [
    {
     "name": "stdout",
     "output_type": "stream",
     "text": [
      "Found 308 images belonging to 3 classes.\n"
     ]
    }
   ],
   "source": [
    "val_data_gen = validation_image_generator.flow_from_directory(batch_size=batch_size,\n",
    "                                                              directory=validation_dir,color_mode=\"rgb\",\n",
    "                                                              target_size=(IMG_HEIGHT, IMG_WIDTH),\n",
    "                                                              class_mode='sparse')"
   ]
  },
  {
   "cell_type": "markdown",
   "metadata": {
    "colab_type": "text",
    "id": "aJMqn0huM_XL"
   },
   "source": [
    "# ***Model***"
   ]
  },
  {
   "cell_type": "code",
   "execution_count": 9,
   "metadata": {
    "colab": {},
    "colab_type": "code",
    "id": "9j2Xp6oLLYv4"
   },
   "outputs": [
    {
     "name": "stdout",
     "output_type": "stream",
     "text": [
      "WARNING:tensorflow:Please add `keras.layers.InputLayer` instead of `keras.Input` to Sequential model. `keras.Input` is intended to be used by Functional model.\n",
      "Model: \"sequential\"\n",
      "_________________________________________________________________\n",
      "Layer (type)                 Output Shape              Param #   \n",
      "=================================================================\n",
      "conv2d (Conv2D)              (None, 10, 13, 32)        896       \n",
      "_________________________________________________________________\n",
      "conv2d_1 (Conv2D)            (None, 8, 11, 64)         18496     \n",
      "_________________________________________________________________\n",
      "max_pooling2d (MaxPooling2D) (None, 4, 5, 64)          0         \n",
      "_________________________________________________________________\n",
      "dropout (Dropout)            (None, 4, 5, 64)          0         \n",
      "_________________________________________________________________\n",
      "flatten (Flatten)            (None, 1280)              0         \n",
      "_________________________________________________________________\n",
      "dense (Dense)                (None, 128)               163968    \n",
      "_________________________________________________________________\n",
      "dropout_1 (Dropout)          (None, 128)               0         \n",
      "_________________________________________________________________\n",
      "dense_1 (Dense)              (None, 3)                 387       \n",
      "=================================================================\n",
      "Total params: 183,747\n",
      "Trainable params: 183,747\n",
      "Non-trainable params: 0\n",
      "_________________________________________________________________\n"
     ]
    }
   ],
   "source": [
    "import tensorflow as tf\n",
    "from tensorflow.keras.models import Sequential\n",
    "from tensorflow.keras.layers import Dense, Conv2D, Flatten, Dropout, MaxPooling2D\n",
    "from tensorflow.keras.preprocessing.image import ImageDataGenerator\n",
    "\n",
    "from tensorflow import keras\n",
    "from tensorflow.keras import datasets, layers, models\n",
    "from tensorflow.keras import regularizers\n",
    "from tensorflow import keras\n",
    "from tensorflow.keras import datasets, layers, models\n",
    "from tensorflow.keras import regularizers\n",
    "model = keras.Sequential(\n",
    "    [\n",
    "        keras.Input(shape=(12,15,3)),\n",
    "        layers.Conv2D(32,kernel_size=(3, 3), activation=\"relu\"),\n",
    "        layers.Conv2D(64,kernel_size=(3, 3), activation=\"relu\"),\n",
    "        layers.MaxPooling2D(pool_size=(2, 2)),\n",
    "        layers.Dropout(0.25,seed=0),\n",
    "        layers.Flatten(),\n",
    "        layers.Dense(128, activation=\"relu\"),\n",
    "        layers.Dropout(0.5),\n",
    "        layers.Dense(3, activation=\"softmax\"),\n",
    "    ]\n",
    ")\n",
    "\n",
    "model.summary()\n",
    "model.compile(optimizer='rmsprop',\n",
    "                  loss=tf.keras.losses.SparseCategoricalCrossentropy(from_logits=True),\n",
    "                  metrics=['accuracy'])\n"
   ]
  },
  {
   "cell_type": "markdown",
   "metadata": {
    "colab_type": "text",
    "id": "LROqBcGxM2Dx"
   },
   "source": [
    "# ***Computational Performance***"
   ]
  },
  {
   "cell_type": "code",
   "execution_count": 10,
   "metadata": {
    "colab": {},
    "colab_type": "code",
    "id": "Lc7sjo-JLh6V"
   },
   "outputs": [
    {
     "name": "stderr",
     "output_type": "stream",
     "text": [
      "C:\\Users\\rialk\\anaconda3\\lib\\site-packages\\keras_preprocessing\\image\\image_data_generator.py:720: UserWarning: This ImageDataGenerator specifies `featurewise_center`, but it hasn't been fit on any training data. Fit it first by calling `.fit(numpy_data)`.\n",
      "  warnings.warn('This ImageDataGenerator specifies '\n"
     ]
    },
    {
     "name": "stdout",
     "output_type": "stream",
     "text": [
      "Epoch 1/100\n"
     ]
    },
    {
     "name": "stderr",
     "output_type": "stream",
     "text": [
      "C:\\Users\\rialk\\anaconda3\\lib\\site-packages\\tensorflow\\python\\keras\\backend.py:4930: UserWarning: \"`sparse_categorical_crossentropy` received `from_logits=True`, but the `output` argument was produced by a sigmoid or softmax activation and thus does not represent logits. Was this intended?\"\n",
      "  '\"`sparse_categorical_crossentropy` received `from_logits=True`, but '\n"
     ]
    },
    {
     "name": "stdout",
     "output_type": "stream",
     "text": [
      "54/54 [==============================] - 7s 68ms/step - loss: 1.0483 - accuracy: 0.4740 - val_loss: 1.0756 - val_accuracy: 0.4132\n",
      "Epoch 2/100\n",
      "54/54 [==============================] - 3s 54ms/step - loss: 1.0152 - accuracy: 0.4929 - val_loss: 1.0495 - val_accuracy: 0.4688\n",
      "Epoch 3/100\n",
      "54/54 [==============================] - 3s 55ms/step - loss: 1.0042 - accuracy: 0.5023 - val_loss: 1.0998 - val_accuracy: 0.2847\n",
      "Epoch 4/100\n",
      "54/54 [==============================] - 3s 53ms/step - loss: 1.0012 - accuracy: 0.5206 - val_loss: 1.0808 - val_accuracy: 0.3090\n",
      "Epoch 5/100\n",
      "54/54 [==============================] - 3s 54ms/step - loss: 0.9919 - accuracy: 0.5259 - val_loss: 1.1132 - val_accuracy: 0.2986\n",
      "Epoch 6/100\n",
      "54/54 [==============================] - 3s 53ms/step - loss: 0.9865 - accuracy: 0.5335 - val_loss: 1.2201 - val_accuracy: 0.2778\n",
      "Epoch 7/100\n",
      "54/54 [==============================] - 3s 56ms/step - loss: 0.9783 - accuracy: 0.5365 - val_loss: 1.2045 - val_accuracy: 0.3021\n",
      "Epoch 8/100\n",
      "54/54 [==============================] - 3s 54ms/step - loss: 0.9688 - accuracy: 0.5480 - val_loss: 1.2356 - val_accuracy: 0.2882\n",
      "Epoch 9/100\n",
      "54/54 [==============================] - 3s 54ms/step - loss: 0.9704 - accuracy: 0.5453 - val_loss: 1.2346 - val_accuracy: 0.2986\n",
      "Epoch 10/100\n",
      "54/54 [==============================] - 3s 55ms/step - loss: 0.9700 - accuracy: 0.5506 - val_loss: 1.2757 - val_accuracy: 0.2743\n",
      "Epoch 11/100\n",
      "54/54 [==============================] - 3s 56ms/step - loss: 0.9699 - accuracy: 0.5618 - val_loss: 1.2358 - val_accuracy: 0.3125\n",
      "Epoch 12/100\n",
      "54/54 [==============================] - 3s 52ms/step - loss: 0.9604 - accuracy: 0.5641 - val_loss: 1.2517 - val_accuracy: 0.3021\n",
      "Epoch 13/100\n",
      "54/54 [==============================] - 3s 52ms/step - loss: 0.9536 - accuracy: 0.5482 - val_loss: 1.2797 - val_accuracy: 0.3125\n",
      "Epoch 14/100\n",
      "54/54 [==============================] - 3s 54ms/step - loss: 0.9611 - accuracy: 0.5559 - val_loss: 1.2858 - val_accuracy: 0.3333\n",
      "Epoch 15/100\n",
      "54/54 [==============================] - 3s 55ms/step - loss: 0.9647 - accuracy: 0.5529 - val_loss: 1.2518 - val_accuracy: 0.3264\n",
      "Epoch 16/100\n",
      "54/54 [==============================] - 3s 54ms/step - loss: 0.9653 - accuracy: 0.5535 - val_loss: 1.4788 - val_accuracy: 0.2812\n",
      "Epoch 17/100\n",
      "54/54 [==============================] - 3s 53ms/step - loss: 0.9568 - accuracy: 0.5529 - val_loss: 1.4299 - val_accuracy: 0.2951\n",
      "Epoch 18/100\n",
      "54/54 [==============================] - 3s 56ms/step - loss: 0.9551 - accuracy: 0.5500 - val_loss: 1.2187 - val_accuracy: 0.3750\n",
      "Epoch 19/100\n",
      "54/54 [==============================] - 3s 59ms/step - loss: 0.9572 - accuracy: 0.5624 - val_loss: 1.3599 - val_accuracy: 0.3889\n",
      "Epoch 20/100\n",
      "54/54 [==============================] - 3s 63ms/step - loss: 0.9445 - accuracy: 0.5559 - val_loss: 1.5465 - val_accuracy: 0.2743\n",
      "Epoch 21/100\n",
      "54/54 [==============================] - 3s 61ms/step - loss: 0.9510 - accuracy: 0.5629 - val_loss: 1.7023 - val_accuracy: 0.3611\n",
      "Epoch 22/100\n",
      "54/54 [==============================] - 4s 69ms/step - loss: 0.9529 - accuracy: 0.5624 - val_loss: 1.2824 - val_accuracy: 0.4167\n",
      "Epoch 23/100\n",
      "54/54 [==============================] - 4s 65ms/step - loss: 0.9522 - accuracy: 0.5671 - val_loss: 1.7301 - val_accuracy: 0.3194\n",
      "Epoch 24/100\n",
      "54/54 [==============================] - 4s 64ms/step - loss: 0.9471 - accuracy: 0.5665 - val_loss: 1.1691 - val_accuracy: 0.4479\n",
      "Epoch 25/100\n",
      "54/54 [==============================] - 3s 55ms/step - loss: 0.9369 - accuracy: 0.5718 - val_loss: 1.2151 - val_accuracy: 0.4028\n",
      "Epoch 26/100\n",
      "54/54 [==============================] - 3s 57ms/step - loss: 0.9433 - accuracy: 0.5706 - val_loss: 1.1243 - val_accuracy: 0.4340\n",
      "Epoch 27/100\n",
      "54/54 [==============================] - 3s 56ms/step - loss: 0.9480 - accuracy: 0.5659 - val_loss: 1.3402 - val_accuracy: 0.4201\n",
      "Epoch 28/100\n",
      "54/54 [==============================] - 3s 56ms/step - loss: 0.9408 - accuracy: 0.5700 - val_loss: 1.2559 - val_accuracy: 0.4306\n",
      "Epoch 29/100\n",
      "54/54 [==============================] - 3s 55ms/step - loss: 0.9431 - accuracy: 0.5712 - val_loss: 1.2624 - val_accuracy: 0.4236\n",
      "Epoch 30/100\n",
      "54/54 [==============================] - 3s 56ms/step - loss: 0.9449 - accuracy: 0.5712 - val_loss: 1.3581 - val_accuracy: 0.4167\n",
      "Epoch 31/100\n",
      "54/54 [==============================] - 3s 56ms/step - loss: 0.9500 - accuracy: 0.5635 - val_loss: 1.4185 - val_accuracy: 0.4201\n",
      "Epoch 32/100\n",
      "54/54 [==============================] - 3s 55ms/step - loss: 0.9474 - accuracy: 0.5518 - val_loss: 1.3121 - val_accuracy: 0.3958\n",
      "Epoch 33/100\n",
      "54/54 [==============================] - 3s 55ms/step - loss: 0.9444 - accuracy: 0.5753 - val_loss: 1.1437 - val_accuracy: 0.4375\n",
      "Epoch 34/100\n",
      "54/54 [==============================] - 3s 54ms/step - loss: 0.9344 - accuracy: 0.5782 - val_loss: 1.5804 - val_accuracy: 0.4167\n",
      "Epoch 35/100\n",
      "54/54 [==============================] - 3s 54ms/step - loss: 0.9499 - accuracy: 0.5529 - val_loss: 1.3228 - val_accuracy: 0.4271\n",
      "Epoch 36/100\n",
      "54/54 [==============================] - 3s 54ms/step - loss: 0.9443 - accuracy: 0.5718 - val_loss: 1.3704 - val_accuracy: 0.4375\n",
      "Epoch 37/100\n",
      "54/54 [==============================] - 3s 53ms/step - loss: 0.9381 - accuracy: 0.5771 - val_loss: 1.7312 - val_accuracy: 0.4201\n",
      "Epoch 38/100\n",
      "54/54 [==============================] - 3s 54ms/step - loss: 0.9410 - accuracy: 0.5794 - val_loss: 1.2889 - val_accuracy: 0.4236\n",
      "Epoch 39/100\n",
      "54/54 [==============================] - 3s 54ms/step - loss: 0.9320 - accuracy: 0.5694 - val_loss: 1.4428 - val_accuracy: 0.4410\n",
      "Epoch 40/100\n",
      "54/54 [==============================] - 3s 53ms/step - loss: 0.9411 - accuracy: 0.5712 - val_loss: 1.6140 - val_accuracy: 0.4236\n",
      "Epoch 41/100\n",
      "54/54 [==============================] - 3s 54ms/step - loss: 0.9387 - accuracy: 0.5729 - val_loss: 1.0477 - val_accuracy: 0.4896\n",
      "Epoch 42/100\n",
      "54/54 [==============================] - 3s 54ms/step - loss: 0.9337 - accuracy: 0.5776 - val_loss: 1.2524 - val_accuracy: 0.4271\n",
      "Epoch 43/100\n",
      "54/54 [==============================] - 3s 54ms/step - loss: 0.9382 - accuracy: 0.5758 - val_loss: 1.4897 - val_accuracy: 0.4306\n",
      "Epoch 44/100\n",
      "54/54 [==============================] - 3s 54ms/step - loss: 0.9369 - accuracy: 0.5835 - val_loss: 1.2311 - val_accuracy: 0.4132\n",
      "Epoch 45/100\n",
      "54/54 [==============================] - 3s 53ms/step - loss: 0.9425 - accuracy: 0.5706 - val_loss: 1.3766 - val_accuracy: 0.4167\n",
      "Epoch 46/100\n",
      "54/54 [==============================] - 3s 53ms/step - loss: 0.9345 - accuracy: 0.5747 - val_loss: 1.7188 - val_accuracy: 0.3611\n",
      "Epoch 47/100\n",
      "54/54 [==============================] - 3s 55ms/step - loss: 0.9272 - accuracy: 0.5794 - val_loss: 1.3292 - val_accuracy: 0.3785\n",
      "Epoch 48/100\n",
      "54/54 [==============================] - 3s 54ms/step - loss: 0.9263 - accuracy: 0.5747 - val_loss: 1.1985 - val_accuracy: 0.3993\n",
      "Epoch 49/100\n",
      "54/54 [==============================] - 3s 55ms/step - loss: 0.9343 - accuracy: 0.5800 - val_loss: 1.2238 - val_accuracy: 0.4479\n",
      "Epoch 50/100\n",
      "54/54 [==============================] - 3s 54ms/step - loss: 0.9340 - accuracy: 0.5841 - val_loss: 1.1897 - val_accuracy: 0.4340\n",
      "Epoch 51/100\n",
      "54/54 [==============================] - 3s 54ms/step - loss: 0.9274 - accuracy: 0.5712 - val_loss: 1.2065 - val_accuracy: 0.4444\n",
      "Epoch 52/100\n",
      "54/54 [==============================] - 3s 54ms/step - loss: 0.9373 - accuracy: 0.5788 - val_loss: 1.2800 - val_accuracy: 0.4271\n",
      "Epoch 53/100\n",
      "54/54 [==============================] - 3s 52ms/step - loss: 0.9268 - accuracy: 0.5847 - val_loss: 1.2158 - val_accuracy: 0.3924\n",
      "Epoch 54/100\n",
      "54/54 [==============================] - 3s 56ms/step - loss: 0.9261 - accuracy: 0.5876 - val_loss: 1.2495 - val_accuracy: 0.4028\n",
      "Epoch 55/100\n",
      "54/54 [==============================] - 3s 54ms/step - loss: 0.9323 - accuracy: 0.5794 - val_loss: 1.1351 - val_accuracy: 0.4653\n",
      "Epoch 56/100\n",
      "54/54 [==============================] - 3s 54ms/step - loss: 0.9367 - accuracy: 0.5718 - val_loss: 1.3125 - val_accuracy: 0.4236\n",
      "Epoch 57/100\n",
      "54/54 [==============================] - 3s 53ms/step - loss: 0.9276 - accuracy: 0.5753 - val_loss: 1.4596 - val_accuracy: 0.3854\n",
      "Epoch 58/100\n",
      "54/54 [==============================] - 3s 59ms/step - loss: 0.9344 - accuracy: 0.5729 - val_loss: 1.4234 - val_accuracy: 0.4306\n",
      "Epoch 59/100\n",
      "54/54 [==============================] - 4s 66ms/step - loss: 0.9305 - accuracy: 0.5882 - val_loss: 1.2646 - val_accuracy: 0.4236\n",
      "Epoch 60/100\n",
      "54/54 [==============================] - 3s 63ms/step - loss: 0.9235 - accuracy: 0.5865 - val_loss: 1.4757 - val_accuracy: 0.4236\n",
      "Epoch 61/100\n",
      "54/54 [==============================] - 4s 69ms/step - loss: 0.9316 - accuracy: 0.5876 - val_loss: 1.1067 - val_accuracy: 0.4896\n",
      "Epoch 62/100\n",
      "54/54 [==============================] - 4s 68ms/step - loss: 0.9243 - accuracy: 0.5894 - val_loss: 1.3871 - val_accuracy: 0.4306\n",
      "Epoch 63/100\n",
      "54/54 [==============================] - 4s 65ms/step - loss: 0.9269 - accuracy: 0.5876 - val_loss: 1.2569 - val_accuracy: 0.4549\n",
      "Epoch 64/100\n",
      "54/54 [==============================] - 3s 54ms/step - loss: 0.9288 - accuracy: 0.5894 - val_loss: 1.0734 - val_accuracy: 0.4826\n",
      "Epoch 65/100\n",
      "54/54 [==============================] - 3s 55ms/step - loss: 0.9205 - accuracy: 0.5841 - val_loss: 1.3921 - val_accuracy: 0.4514\n",
      "Epoch 66/100\n",
      "54/54 [==============================] - 3s 54ms/step - loss: 0.9242 - accuracy: 0.5824 - val_loss: 1.3704 - val_accuracy: 0.4375\n",
      "Epoch 67/100\n",
      "54/54 [==============================] - 3s 54ms/step - loss: 0.9306 - accuracy: 0.5712 - val_loss: 1.1350 - val_accuracy: 0.4861\n",
      "Epoch 68/100\n",
      "54/54 [==============================] - 3s 53ms/step - loss: 0.9189 - accuracy: 0.5982 - val_loss: 1.3765 - val_accuracy: 0.4514\n",
      "Epoch 69/100\n",
      "54/54 [==============================] - 3s 54ms/step - loss: 0.9249 - accuracy: 0.6000 - val_loss: 1.5400 - val_accuracy: 0.4375\n",
      "Epoch 70/100\n",
      "54/54 [==============================] - 3s 54ms/step - loss: 0.9306 - accuracy: 0.5882 - val_loss: 1.4775 - val_accuracy: 0.4444\n",
      "Epoch 71/100\n",
      "54/54 [==============================] - 3s 56ms/step - loss: 0.9246 - accuracy: 0.5800 - val_loss: 1.2828 - val_accuracy: 0.4479\n",
      "Epoch 72/100\n",
      "54/54 [==============================] - 3s 55ms/step - loss: 0.9198 - accuracy: 0.5841 - val_loss: 1.2661 - val_accuracy: 0.4583\n",
      "Epoch 73/100\n",
      "54/54 [==============================] - 3s 54ms/step - loss: 0.9195 - accuracy: 0.5771 - val_loss: 1.1990 - val_accuracy: 0.4618\n",
      "Epoch 74/100\n",
      "54/54 [==============================] - 3s 54ms/step - loss: 0.9232 - accuracy: 0.5776 - val_loss: 1.1070 - val_accuracy: 0.4896\n",
      "Epoch 75/100\n",
      "54/54 [==============================] - 3s 54ms/step - loss: 0.9341 - accuracy: 0.5812 - val_loss: 1.2201 - val_accuracy: 0.4653\n",
      "Epoch 76/100\n",
      "54/54 [==============================] - 3s 54ms/step - loss: 0.9287 - accuracy: 0.5865 - val_loss: 1.4744 - val_accuracy: 0.4410\n",
      "Epoch 77/100\n",
      "54/54 [==============================] - 3s 53ms/step - loss: 0.9153 - accuracy: 0.5918 - val_loss: 1.2177 - val_accuracy: 0.4861\n",
      "Epoch 78/100\n",
      "54/54 [==============================] - 3s 54ms/step - loss: 0.9215 - accuracy: 0.5988 - val_loss: 1.1520 - val_accuracy: 0.4792\n",
      "Epoch 79/100\n",
      "54/54 [==============================] - 3s 55ms/step - loss: 0.9225 - accuracy: 0.6012 - val_loss: 1.0584 - val_accuracy: 0.4514\n",
      "Epoch 80/100\n",
      "54/54 [==============================] - 3s 53ms/step - loss: 0.9229 - accuracy: 0.5859 - val_loss: 1.3489 - val_accuracy: 0.4479\n",
      "Epoch 81/100\n",
      "54/54 [==============================] - 3s 53ms/step - loss: 0.9291 - accuracy: 0.5882 - val_loss: 1.1532 - val_accuracy: 0.4688\n",
      "Epoch 82/100\n",
      "54/54 [==============================] - 3s 55ms/step - loss: 0.9155 - accuracy: 0.5929 - val_loss: 1.5956 - val_accuracy: 0.4236\n",
      "Epoch 83/100\n",
      "54/54 [==============================] - 3s 53ms/step - loss: 0.9185 - accuracy: 0.5824 - val_loss: 1.3252 - val_accuracy: 0.4479\n",
      "Epoch 84/100\n",
      "54/54 [==============================] - 3s 55ms/step - loss: 0.9213 - accuracy: 0.5800 - val_loss: 1.4716 - val_accuracy: 0.4201\n",
      "Epoch 85/100\n",
      "54/54 [==============================] - 3s 53ms/step - loss: 0.9269 - accuracy: 0.5882 - val_loss: 1.1072 - val_accuracy: 0.4618\n",
      "Epoch 86/100\n",
      "54/54 [==============================] - 3s 54ms/step - loss: 0.9215 - accuracy: 0.5865 - val_loss: 1.1984 - val_accuracy: 0.4896\n",
      "Epoch 87/100\n",
      "54/54 [==============================] - 3s 53ms/step - loss: 0.9228 - accuracy: 0.5841 - val_loss: 1.4406 - val_accuracy: 0.4271\n",
      "Epoch 88/100\n",
      "54/54 [==============================] - 3s 55ms/step - loss: 0.9163 - accuracy: 0.5924 - val_loss: 1.7213 - val_accuracy: 0.4201\n",
      "Epoch 89/100\n",
      "54/54 [==============================] - 3s 54ms/step - loss: 0.9216 - accuracy: 0.5735 - val_loss: 1.4467 - val_accuracy: 0.4201\n",
      "Epoch 90/100\n",
      "54/54 [==============================] - 3s 55ms/step - loss: 0.9188 - accuracy: 0.5900 - val_loss: 1.5790 - val_accuracy: 0.3924\n",
      "Epoch 91/100\n",
      "54/54 [==============================] - 3s 55ms/step - loss: 0.9172 - accuracy: 0.5941 - val_loss: 1.4953 - val_accuracy: 0.4583\n",
      "Epoch 92/100\n",
      "54/54 [==============================] - 3s 58ms/step - loss: 0.9193 - accuracy: 0.5871 - val_loss: 1.8231 - val_accuracy: 0.3958\n",
      "Epoch 93/100\n",
      "54/54 [==============================] - 3s 55ms/step - loss: 0.9177 - accuracy: 0.5976 - val_loss: 1.3927 - val_accuracy: 0.4514\n",
      "Epoch 94/100\n",
      "54/54 [==============================] - 3s 54ms/step - loss: 0.9250 - accuracy: 0.5824 - val_loss: 1.3333 - val_accuracy: 0.4444\n",
      "Epoch 95/100\n",
      "54/54 [==============================] - 3s 54ms/step - loss: 0.9232 - accuracy: 0.5847 - val_loss: 1.2627 - val_accuracy: 0.4514\n",
      "Epoch 96/100\n",
      "54/54 [==============================] - 3s 54ms/step - loss: 0.9270 - accuracy: 0.5894 - val_loss: 1.2166 - val_accuracy: 0.4688\n",
      "Epoch 97/100\n",
      "54/54 [==============================] - 3s 55ms/step - loss: 0.9253 - accuracy: 0.5782 - val_loss: 1.3713 - val_accuracy: 0.4549\n",
      "Epoch 98/100\n",
      "54/54 [==============================] - 3s 59ms/step - loss: 0.9170 - accuracy: 0.5876 - val_loss: 1.1916 - val_accuracy: 0.4931\n",
      "Epoch 99/100\n",
      "54/54 [==============================] - 3s 61ms/step - loss: 0.9204 - accuracy: 0.5965 - val_loss: 1.2321 - val_accuracy: 0.4722\n",
      "Epoch 100/100\n",
      "54/54 [==============================] - 3s 63ms/step - loss: 0.9130 - accuracy: 0.5918 - val_loss: 1.2863 - val_accuracy: 0.4722\n"
     ]
    }
   ],
   "source": [
    "history = model.fit(\n",
    "    train_data_gen,\n",
    "    steps_per_epoch=total_train // batch_size,\n",
    "    epochs=epochs,\n",
    "    validation_data=val_data_gen,\n",
    "    validation_steps=total_val // batch_size\n",
    ")"
   ]
  },
  {
   "cell_type": "code",
   "execution_count": 11,
   "metadata": {},
   "outputs": [
    {
     "name": "stdout",
     "output_type": "stream",
     "text": [
      "Found 328 images belonging to 3 classes.\n"
     ]
    }
   ],
   "source": [
    "image_gen_test = ImageDataGenerator(rescale=1./255)\n",
    "test_data_gen = image_gen_test.flow_from_directory(batch_size=batch_size,\n",
    "                                                 directory='Images/Testing',\n",
    "                                                 target_size=(IMG_HEIGHT, IMG_WIDTH),\n",
    "                                                 class_mode='sparse')"
   ]
  },
  {
   "cell_type": "code",
   "execution_count": 12,
   "metadata": {
    "colab": {},
    "colab_type": "code",
    "id": "w-xaUMCyL3M-"
   },
   "outputs": [
    {
     "name": "stdout",
     "output_type": "stream",
     "text": [
      "WARNING:tensorflow:Your input ran out of data; interrupting training. Make sure that your dataset or generator can generate at least `steps_per_epoch * epochs` batches (in this case, 11 batches). You may need to use the repeat() function when building your dataset.\n"
     ]
    },
    {
     "data": {
      "text/plain": [
       "0.4675324559211731"
      ]
     },
     "execution_count": 12,
     "metadata": {},
     "output_type": "execute_result"
    }
   ],
   "source": [
    "val_loss,val_acc =model.evaluate(val_data_gen,steps=len(test_data_gen),verbose=0)\n",
    "val_acc"
   ]
  },
  {
   "cell_type": "code",
   "execution_count": 13,
   "metadata": {},
   "outputs": [
    {
     "data": {
      "text/plain": [
       "0.4146341383457184"
      ]
     },
     "execution_count": 13,
     "metadata": {},
     "output_type": "execute_result"
    }
   ],
   "source": [
    "test_loss,test_acc = model.evaluate(test_data_gen,steps=len(test_data_gen),verbose=0)\n",
    "test_acc"
   ]
  },
  {
   "cell_type": "code",
   "execution_count": 14,
   "metadata": {
    "colab": {},
    "colab_type": "code",
    "id": "MSqmJomJLi3P"
   },
   "outputs": [
    {
     "data": {
      "text/plain": [
       "<matplotlib.legend.Legend at 0x1f91867de08>"
      ]
     },
     "execution_count": 14,
     "metadata": {},
     "output_type": "execute_result"
    },
    {
     "data": {
      "image/png": "[encoded data removed]",
      "text/plain": [
       "<Figure size 432x288 with 1 Axes>"
      ]
     },
     "metadata": {
      "needs_background": "light"
     },
     "output_type": "display_data"
    }
   ],
   "source": [
    "plt.plot(history.history['accuracy'], label='acc')\n",
    "plt.plot(history.history['val_accuracy'], label = 'val_acc')\n",
    "plt.xlabel('Epoch')\n",
    "plt.ylabel('Accuracy')\n",
    "plt.ylim([0.2, 1])\n",
    "plt.legend(loc='lower right')"
   ]
  },
  {
   "cell_type": "markdown",
   "metadata": {
    "colab_type": "text",
    "id": "vn5D5lYTMZj5"
   },
   "source": [
    "## ***Financial Evaluation***"
   ]
  },
  {
   "cell_type": "code",
   "execution_count": 15,
   "metadata": {
    "colab": {},
    "colab_type": "code",
    "id": "yIM59JdpMKka"
   },
   "outputs": [
    {
     "name": "stdout",
     "output_type": "stream",
     "text": [
      "[1, 1, 1, 1, 1, 1, 1, 1, 1, 1, 1, 1, 1, 1, 1, 1, 1, 1, 1, 1, 1, 2, 1, 2, 2, 2, 2, 2, 0, 2, 2, 2, 2, 1, 2, 0, 2, 2, 0, 0, 0, 0, 0, 0, 1, 1, 1, 1, 1, 1, 1, 1, 1, 0, 1, 1, 1, 1, 2, 2, 2, 0, 0, 0, 0, 0, 1, 0, 2, 2, 2, 2, 0, 0, 0, 0, 0, 1, 0, 0, 0, 0, 0, 0, 0, 0, 0, 0, 1, 0, 0, 0, 0, 0, 0, 0, 1, 1, 0, 0, 2, 2, 2, 2, 2, 2, 2, 0, 1, 0, 0, 0, 0, 0, 2, 0, 2, 2, 2, 1, 0, 2, 2, 2, 2, 0, 0, 0, 0, 0, 1, 0, 0, 0, 0, 0, 0, 0, 0, 2, 0, 2, 0, 0, 2, 2, 0, 2, 0, 0, 0, 0, 1, 0, 1, 1, 1, 1, 1, 1, 1, 1, 1, 1, 1, 2, 2, 2, 2, 1, 2, 2, 0, 0, 0, 0, 0, 0, 0, 0, 1, 0, 0, 0, 0, 2, 0, 0, 0, 0, 0, 2, 0, 0, 1, 1, 1, 1, 1, 1, 2, 2, 2, 1, 2, 2, 2, 1, 0, 0, 0, 0, 0, 2, 0, 0, 1, 0, 0, 0, 1, 0, 0, 0, 1, 1, 1, 1, 1, 1, 1, 1, 2, 2, 2, 1, 2, 0, 0, 0, 0, 0, 0, 0, 0, 0, 2, 1, 1, 1, 2, 2, 2, 2, 2, 2, 2, 1, 2, 2, 2, 2, 2, 2, 2, 2, 2, 2, 1, 2, 2, 2, 0, 2, 0, 0, 0, 2, 2, 1, 2, 2, 2, 2, 2, 2, 0, 2, 0, 2, 2, 2, 2, 2, 2, 2, 2, 2, 2, 2, 0, 2, 2, 2, 2, 2, 2, 2, 2, 2, 2, 2, 2, 2, 2, 0, 2, 2, 2, 0, 0, 0, 0, 2, 0, 0, 2, 1]\n"
     ]
    }
   ],
   "source": [
    "from keras.preprocessing import image\n",
    "labels_pred=[]\n",
    "\n",
    "PATH = os.getcwd()\n",
    "data_path =  'Images/Testing'\n",
    "data_dir_list = os.listdir(data_path)\n",
    "\n",
    "img_data_list=[]\n",
    "for dataset in data_dir_list:\n",
    "    img_list=os.listdir(data_path+'/'+ dataset)\n",
    "    for img in img_list:\n",
    "        img_path = data_path + '/'+ dataset + '/'+ img\n",
    "        img = keras.preprocessing.image.load_img(img_path, target_size=(IMG_HEIGHT, IMG_WIDTH))\n",
    "        test_img = image.img_to_array(img)/255\n",
    "        test_img=np.array(test_img)\n",
    "        img_array = tf.expand_dims(test_img, 0)  # Create batch axis\n",
    "        labels_pred.append(np.argmax(model.predict(img_array),axis=1)[0])\n",
    "        \n",
    "print(labels_pred)"
   ]
  },
  {
   "cell_type": "code",
   "execution_count": 16,
   "metadata": {
    "colab": {},
    "colab_type": "code",
    "id": "ZcEyjDDLMQsg"
   },
   "outputs": [
    {
     "name": "stdout",
     "output_type": "stream",
     "text": [
      "date : 28, cost : -974.2216189999999,buy_c:1,price:974.2216189999999 Buy\n",
      "date : 58, cost :22.896728000000167,buy_c:0,price:997.1183470000001 Sell\n",
      "date : 61, cost : -934.0906379999999,buy_c:1,price:956.9873660000001 Buy\n",
      "date : 68, cost :34.4893790000001,buy_c:0,price:968.580017 Sell\n",
      "date : 72, cost : -1037.928956,buy_c:1,price:1072.418335 Buy\n",
      "date : 100, cost :219.8724360000001,buy_c:0,price:1257.801392 Sell\n",
      "date : 107, cost : -997.998902,buy_c:1,price:1217.8713380000002 Buy\n",
      "date : 114, cost :243.00817800000004,buy_c:0,price:1241.00708 Sell\n",
      "date : 115, cost : -998.642945,buy_c:1,price:1241.651123 Buy\n",
      "date : 123, cost :243.60266000000001,buy_c:0,price:1242.245605 Sell\n",
      "date : 125, cost : -976.795167,buy_c:1,price:1220.397827 Buy\n",
      "date : 200, cost :249.5476060000001,buy_c:0,price:1226.342773 Sell\n",
      "date : 208, cost : -966.342165,buy_c:1,price:1215.889771 Buy\n",
      "date : 213, cost :312.21716100000003,buy_c:0,price:1278.559326 Sell\n",
      "date : 214, cost : -953.7585469999999,buy_c:1,price:1265.975708 Buy\n",
      "date : 233, cost :338.374998,buy_c:0,price:1292.133545 Sell\n",
      "date : 237, cost : -971.1475849999999,buy_c:1,price:1309.522583 Buy\n",
      "date : 246, cost :407.9307839999999,buy_c:0,price:1379.0783689999998 Sell\n",
      "date : 272, cost : -812.813967,buy_c:1,price:1220.744751 Buy\n",
      "date : 273, cost :436.070066,buy_c:0,price:1248.884033 Sell\n",
      "date : 274, cost : -809.2966329999999,buy_c:1,price:1245.366699 Buy\n",
      "date : 277, cost :504.4368880000002,buy_c:0,price:1313.733521 Sell\n",
      "date : 286, cost : -813.5076919999999,buy_c:1,price:1317.94458 Buy\n",
      "date : 287, cost :534.2110580000001,buy_c:0,price:1347.71875 Sell\n",
      "date : 288, cost : -805.0362559999999,buy_c:1,price:1339.247314 Buy\n",
      "-805.0362559999999\n",
      "13\n",
      "12\n",
      "win: 12\n",
      "loss: 0\n"
     ]
    }
   ],
   "source": [
    "df['prediction']=labels_pred\n",
    "icost=[]\n",
    "buy_l=[]\n",
    "cost=0\n",
    "buy_c=0\n",
    "buy=0\n",
    "sell=0\n",
    "win=0\n",
    "loss=0\n",
    "\n",
    "for i in df.index:\n",
    "    if(df['prediction'][i]==0):\n",
    "        if(buy_c<=0):\n",
    "            buy_c=buy_c+1\n",
    "            buy=buy+1\n",
    "            cost=cost - df['Adj Close'][i]\n",
    "            x=df['Adj Close'][i]\n",
    "            #print(cost)\n",
    "            buy_l.append(x)\n",
    "            print(\"date : {}, cost : {},buy_c:{},price:{}\".format(i, cost,buy_c,x),'Buy')\n",
    "    if(df['prediction'][i]==2):\n",
    "        y=df['Adj Close'][i]\n",
    "        if(buy_c>=1):\n",
    "            if(y-x>0):\n",
    "                buy_c=buy_c-1\n",
    "                sell=sell+1\n",
    "                cost=cost+df['Adj Close'][i]\n",
    "                print(\"date : {}, cost :{},buy_c:{},price:{}\".format(i, cost,buy_c,y),\"Sell\")\n",
    "                if((buy>0) & (sell>0)):\n",
    "                    if(y-x<0):\n",
    "                        loss=loss+1\n",
    "                    if(y-x>0):\n",
    "                        win=win+1\n",
    "                    icost.append(y-x)\n",
    "    if(df['prediction'][i]==1):\n",
    "        continue\n",
    " \n",
    "print(cost)\n",
    "#print((cost-icost)/icost)\n",
    "print(buy)\n",
    "print(sell)\n",
    "print(\"win:\",win)\n",
    "print('loss:',loss)"
   ]
  },
  {
   "cell_type": "code",
   "execution_count": null,
   "metadata": {},
   "outputs": [],
   "source": []
  }
 ],
 "metadata": {
  "colab": {
   "name": "Model.ipynb",
   "provenance": []
  },
  "kernelspec": {
   "display_name": "Python 3",
   "language": "python",
   "name": "python3"
  },
  "language_info": {
   "codemirror_mode": {
    "name": "ipython",
    "version": 3
   },
   "file_extension": ".py",
   "mimetype": "text/x-python",
   "name": "python",
   "nbconvert_exporter": "python",
   "pygments_lexer": "ipython3",
   "version": "3.7.6"
  }
 },
 "nbformat": 4,
 "nbformat_minor": 1
}
